{
  "nbformat": 4,
  "nbformat_minor": 0,
  "metadata": {
    "colab": {
      "provenance": [],
      "gpuType": "T4",
      "authorship_tag": "ABX9TyMYWk5vVx+39NvIq+uU5EVL",
      "include_colab_link": true
    },
    "kernelspec": {
      "name": "python3",
      "display_name": "Python 3"
    },
    "language_info": {
      "name": "python"
    },
    "accelerator": "GPU"
  },
  "cells": [
    {
      "cell_type": "markdown",
      "metadata": {
        "id": "view-in-github",
        "colab_type": "text"
      },
      "source": [
        "<a href=\"https://colab.research.google.com/github/chaiminwoo0223/Computer-Vision/blob/main/Class5/program03.ipynb\" target=\"_parent\"><img src=\"https://colab.research.google.com/assets/colab-badge.svg\" alt=\"Open In Colab\"/></a>"
      ]
    },
    {
      "cell_type": "markdown",
      "source": [
        "# SGD와 Adam 성능 그래프 비교"
      ],
      "metadata": {
        "id": "6yd98v5nVQ_K"
      }
    },
    {
      "cell_type": "code",
      "execution_count": 1,
      "metadata": {
        "id": "AUyHdOYJVQRH"
      },
      "outputs": [],
      "source": [
        "import numpy as np\n",
        "import tensorflow as tf\n",
        "import tensorflow.keras.datasets as ds\n",
        "import matplotlib.pyplot as plt\n",
        "\n",
        "from tensorflow.keras.models import Sequential\n",
        "from tensorflow.keras.layers import Dense\n",
        "from tensorflow.keras.optimizers import SGD, Adam"
      ]
    },
    {
      "cell_type": "markdown",
      "source": [
        "## 1.데이터 준비"
      ],
      "metadata": {
        "id": "TtirliZUVeZi"
      }
    },
    {
      "cell_type": "code",
      "source": [
        "(x_train, y_train), (x_test, y_test) = ds.mnist.load_data()\n",
        "# 1차원 구조로 변환\n",
        "x_train = x_train.reshape(60000, 784)\n",
        "x_test = x_test.reshape(10000, 784)\n",
        "# [0, 1]로 정규화\n",
        "x_train = x_train.astype(np.float32) / 255.0\n",
        "x_test = x_test.astype(np.float32) / 255.0\n",
        "# 원핫 코드로 변환\n",
        "y_train = tf.keras.utils.to_categorical(y_train, 10)\n",
        "y_test = tf.keras.utils.to_categorical(y_test, 10)"
      ],
      "metadata": {
        "id": "iArF8hvhVbw_"
      },
      "execution_count": 2,
      "outputs": []
    },
    {
      "cell_type": "markdown",
      "source": [
        "## 2.SGD\n",
        "- 모델 선택"
      ],
      "metadata": {
        "id": "gsDxIBZKXExU"
      }
    },
    {
      "cell_type": "code",
      "source": [
        "mlp_sgd = Sequential()\n",
        "mlp_sgd.add(Dense(units=512, activation='tanh', input_shape=(784,))) # 은닉층 노드 개수 512, 활성 함수 tanh\n",
        "mlp_sgd.add(Dense(units=10, activation='softmax')) # 출력층 노드 개수 10, 활성 함수 softmax"
      ],
      "metadata": {
        "id": "vmoi3gVUVorl"
      },
      "execution_count": 3,
      "outputs": []
    },
    {
      "cell_type": "markdown",
      "source": [
        "- 학습 및 예측"
      ],
      "metadata": {
        "id": "kUQR0YyVW9Wk"
      }
    },
    {
      "cell_type": "code",
      "source": [
        "mlp_sgd.compile(loss='MSE', optimizer=SGD(learning_rate=0.01), metrics=['accuracy'])\n",
        "hist_sgd = mlp_sgd.fit(x_train, y_train, batch_size=128, epochs=50, validation_data=(x_test, y_test), verbose=2)\n",
        "print('SGD 정확률 =', mlp_sgd.evaluate(x_test, y_test, verbose=0)[1]*100)"
      ],
      "metadata": {
        "colab": {
          "base_uri": "https://localhost:8080/"
        },
        "id": "t8jcA4DPWqoZ",
        "outputId": "277da0c7-aa1a-46ac-d596-c47c49d62991"
      },
      "execution_count": 4,
      "outputs": [
        {
          "output_type": "stream",
          "name": "stdout",
          "text": [
            "Epoch 1/50\n",
            "469/469 - 5s - loss: 0.0881 - accuracy: 0.1817 - val_loss: 0.0849 - val_accuracy: 0.2991 - 5s/epoch - 11ms/step\n",
            "Epoch 2/50\n",
            "469/469 - 3s - loss: 0.0815 - accuracy: 0.3926 - val_loss: 0.0774 - val_accuracy: 0.4859 - 3s/epoch - 7ms/step\n",
            "Epoch 3/50\n",
            "469/469 - 2s - loss: 0.0737 - accuracy: 0.5422 - val_loss: 0.0694 - val_accuracy: 0.5971 - 2s/epoch - 5ms/step\n",
            "Epoch 4/50\n",
            "469/469 - 2s - loss: 0.0660 - accuracy: 0.6252 - val_loss: 0.0618 - val_accuracy: 0.6561 - 2s/epoch - 4ms/step\n",
            "Epoch 5/50\n",
            "469/469 - 1s - loss: 0.0591 - accuracy: 0.6661 - val_loss: 0.0555 - val_accuracy: 0.6930 - 1s/epoch - 3ms/step\n",
            "Epoch 6/50\n",
            "469/469 - 1s - loss: 0.0536 - accuracy: 0.6959 - val_loss: 0.0505 - val_accuracy: 0.7221 - 1s/epoch - 3ms/step\n",
            "Epoch 7/50\n",
            "469/469 - 1s - loss: 0.0492 - accuracy: 0.7204 - val_loss: 0.0464 - val_accuracy: 0.7410 - 1s/epoch - 3ms/step\n",
            "Epoch 8/50\n",
            "469/469 - 1s - loss: 0.0456 - accuracy: 0.7405 - val_loss: 0.0431 - val_accuracy: 0.7615 - 1s/epoch - 3ms/step\n",
            "Epoch 9/50\n",
            "469/469 - 2s - loss: 0.0426 - accuracy: 0.7589 - val_loss: 0.0403 - val_accuracy: 0.7808 - 2s/epoch - 3ms/step\n",
            "Epoch 10/50\n",
            "469/469 - 2s - loss: 0.0400 - accuracy: 0.7789 - val_loss: 0.0377 - val_accuracy: 0.8013 - 2s/epoch - 3ms/step\n",
            "Epoch 11/50\n",
            "469/469 - 1s - loss: 0.0378 - accuracy: 0.7977 - val_loss: 0.0356 - val_accuracy: 0.8149 - 1s/epoch - 3ms/step\n",
            "Epoch 12/50\n",
            "469/469 - 1s - loss: 0.0358 - accuracy: 0.8122 - val_loss: 0.0337 - val_accuracy: 0.8251 - 1s/epoch - 3ms/step\n",
            "Epoch 13/50\n",
            "469/469 - 1s - loss: 0.0341 - accuracy: 0.8219 - val_loss: 0.0321 - val_accuracy: 0.8335 - 1s/epoch - 3ms/step\n",
            "Epoch 14/50\n",
            "469/469 - 1s - loss: 0.0326 - accuracy: 0.8298 - val_loss: 0.0307 - val_accuracy: 0.8415 - 1s/epoch - 3ms/step\n",
            "Epoch 15/50\n",
            "469/469 - 1s - loss: 0.0313 - accuracy: 0.8351 - val_loss: 0.0295 - val_accuracy: 0.8475 - 1s/epoch - 3ms/step\n",
            "Epoch 16/50\n",
            "469/469 - 1s - loss: 0.0302 - accuracy: 0.8408 - val_loss: 0.0284 - val_accuracy: 0.8527 - 1s/epoch - 3ms/step\n",
            "Epoch 17/50\n",
            "469/469 - 1s - loss: 0.0292 - accuracy: 0.8450 - val_loss: 0.0275 - val_accuracy: 0.8560 - 1s/epoch - 3ms/step\n",
            "Epoch 18/50\n",
            "469/469 - 1s - loss: 0.0283 - accuracy: 0.8483 - val_loss: 0.0267 - val_accuracy: 0.8608 - 1s/epoch - 3ms/step\n",
            "Epoch 19/50\n",
            "469/469 - 2s - loss: 0.0275 - accuracy: 0.8515 - val_loss: 0.0259 - val_accuracy: 0.8640 - 2s/epoch - 4ms/step\n",
            "Epoch 20/50\n",
            "469/469 - 2s - loss: 0.0268 - accuracy: 0.8542 - val_loss: 0.0253 - val_accuracy: 0.8652 - 2s/epoch - 4ms/step\n",
            "Epoch 21/50\n",
            "469/469 - 1s - loss: 0.0262 - accuracy: 0.8570 - val_loss: 0.0247 - val_accuracy: 0.8674 - 1s/epoch - 3ms/step\n",
            "Epoch 22/50\n",
            "469/469 - 1s - loss: 0.0256 - accuracy: 0.8594 - val_loss: 0.0241 - val_accuracy: 0.8700 - 1s/epoch - 3ms/step\n",
            "Epoch 23/50\n",
            "469/469 - 1s - loss: 0.0251 - accuracy: 0.8612 - val_loss: 0.0236 - val_accuracy: 0.8715 - 1s/epoch - 3ms/step\n",
            "Epoch 24/50\n",
            "469/469 - 1s - loss: 0.0246 - accuracy: 0.8631 - val_loss: 0.0232 - val_accuracy: 0.8729 - 1s/epoch - 3ms/step\n",
            "Epoch 25/50\n",
            "469/469 - 1s - loss: 0.0242 - accuracy: 0.8650 - val_loss: 0.0228 - val_accuracy: 0.8750 - 1s/epoch - 3ms/step\n",
            "Epoch 26/50\n",
            "469/469 - 1s - loss: 0.0238 - accuracy: 0.8669 - val_loss: 0.0224 - val_accuracy: 0.8766 - 1s/epoch - 3ms/step\n",
            "Epoch 27/50\n",
            "469/469 - 2s - loss: 0.0234 - accuracy: 0.8681 - val_loss: 0.0220 - val_accuracy: 0.8779 - 2s/epoch - 4ms/step\n",
            "Epoch 28/50\n",
            "469/469 - 1s - loss: 0.0230 - accuracy: 0.8695 - val_loss: 0.0217 - val_accuracy: 0.8793 - 1s/epoch - 3ms/step\n",
            "Epoch 29/50\n",
            "469/469 - 1s - loss: 0.0227 - accuracy: 0.8708 - val_loss: 0.0214 - val_accuracy: 0.8808 - 1s/epoch - 3ms/step\n",
            "Epoch 30/50\n",
            "469/469 - 1s - loss: 0.0224 - accuracy: 0.8723 - val_loss: 0.0211 - val_accuracy: 0.8825 - 1s/epoch - 3ms/step\n",
            "Epoch 31/50\n",
            "469/469 - 1s - loss: 0.0221 - accuracy: 0.8734 - val_loss: 0.0208 - val_accuracy: 0.8834 - 1s/epoch - 3ms/step\n",
            "Epoch 32/50\n",
            "469/469 - 1s - loss: 0.0218 - accuracy: 0.8747 - val_loss: 0.0206 - val_accuracy: 0.8847 - 1s/epoch - 3ms/step\n",
            "Epoch 33/50\n",
            "469/469 - 1s - loss: 0.0216 - accuracy: 0.8759 - val_loss: 0.0203 - val_accuracy: 0.8857 - 1s/epoch - 3ms/step\n",
            "Epoch 34/50\n",
            "469/469 - 1s - loss: 0.0213 - accuracy: 0.8769 - val_loss: 0.0201 - val_accuracy: 0.8870 - 1s/epoch - 3ms/step\n",
            "Epoch 35/50\n",
            "469/469 - 1s - loss: 0.0211 - accuracy: 0.8782 - val_loss: 0.0199 - val_accuracy: 0.8875 - 1s/epoch - 3ms/step\n",
            "Epoch 36/50\n",
            "469/469 - 2s - loss: 0.0209 - accuracy: 0.8788 - val_loss: 0.0197 - val_accuracy: 0.8883 - 2s/epoch - 4ms/step\n",
            "Epoch 37/50\n",
            "469/469 - 1s - loss: 0.0207 - accuracy: 0.8798 - val_loss: 0.0195 - val_accuracy: 0.8890 - 1s/epoch - 3ms/step\n",
            "Epoch 38/50\n",
            "469/469 - 1s - loss: 0.0205 - accuracy: 0.8807 - val_loss: 0.0193 - val_accuracy: 0.8895 - 1s/epoch - 3ms/step\n",
            "Epoch 39/50\n",
            "469/469 - 1s - loss: 0.0203 - accuracy: 0.8816 - val_loss: 0.0191 - val_accuracy: 0.8896 - 1s/epoch - 3ms/step\n",
            "Epoch 40/50\n",
            "469/469 - 1s - loss: 0.0201 - accuracy: 0.8825 - val_loss: 0.0190 - val_accuracy: 0.8900 - 1s/epoch - 3ms/step\n",
            "Epoch 41/50\n",
            "469/469 - 1s - loss: 0.0200 - accuracy: 0.8829 - val_loss: 0.0188 - val_accuracy: 0.8909 - 1s/epoch - 3ms/step\n",
            "Epoch 42/50\n",
            "469/469 - 1s - loss: 0.0198 - accuracy: 0.8836 - val_loss: 0.0186 - val_accuracy: 0.8913 - 1s/epoch - 3ms/step\n",
            "Epoch 43/50\n",
            "469/469 - 1s - loss: 0.0197 - accuracy: 0.8843 - val_loss: 0.0185 - val_accuracy: 0.8918 - 1s/epoch - 3ms/step\n",
            "Epoch 44/50\n",
            "469/469 - 1s - loss: 0.0195 - accuracy: 0.8849 - val_loss: 0.0184 - val_accuracy: 0.8921 - 1s/epoch - 3ms/step\n",
            "Epoch 45/50\n",
            "469/469 - 2s - loss: 0.0194 - accuracy: 0.8856 - val_loss: 0.0182 - val_accuracy: 0.8925 - 2s/epoch - 4ms/step\n",
            "Epoch 46/50\n",
            "469/469 - 1s - loss: 0.0192 - accuracy: 0.8859 - val_loss: 0.0181 - val_accuracy: 0.8926 - 1s/epoch - 3ms/step\n",
            "Epoch 47/50\n",
            "469/469 - 1s - loss: 0.0191 - accuracy: 0.8864 - val_loss: 0.0180 - val_accuracy: 0.8930 - 1s/epoch - 3ms/step\n",
            "Epoch 48/50\n",
            "469/469 - 1s - loss: 0.0190 - accuracy: 0.8868 - val_loss: 0.0178 - val_accuracy: 0.8933 - 1s/epoch - 3ms/step\n",
            "Epoch 49/50\n",
            "469/469 - 1s - loss: 0.0188 - accuracy: 0.8876 - val_loss: 0.0177 - val_accuracy: 0.8936 - 1s/epoch - 3ms/step\n",
            "Epoch 50/50\n",
            "469/469 - 1s - loss: 0.0187 - accuracy: 0.8881 - val_loss: 0.0176 - val_accuracy: 0.8942 - 1s/epoch - 3ms/step\n",
            "SGD 정확률 = 89.42000269889832\n"
          ]
        }
      ]
    },
    {
      "cell_type": "markdown",
      "source": [
        "## 3.Adam\n",
        "- 모델 선택"
      ],
      "metadata": {
        "id": "2EMJx857XjYa"
      }
    },
    {
      "cell_type": "code",
      "source": [
        "mlp_adam = Sequential()\n",
        "mlp_adam.add(Dense(units=512, activation='tanh', input_shape=(784,))) # 은닉층 노드 개수 512, 활성 함수 tanh\n",
        "mlp_adam.add(Dense(units=10, activation='softmax')) # 출력층 노드 개수 10, 활성 함수 softmax"
      ],
      "metadata": {
        "id": "27qQYV7QXimJ"
      },
      "execution_count": 5,
      "outputs": []
    },
    {
      "cell_type": "markdown",
      "source": [
        "- 학습 및 예측"
      ],
      "metadata": {
        "id": "gmcWV7ZNYR6w"
      }
    },
    {
      "cell_type": "code",
      "source": [
        "mlp_adam.compile(loss='MSE', optimizer=Adam(learning_rate=0.001), metrics=['accuracy'])\n",
        "hist_adam = mlp_adam.fit(x_train, y_train, batch_size=128, epochs=50, validation_data=(x_test, y_test), verbose=2)\n",
        "print('Adam 정확률 =', mlp_adam.evaluate(x_test, y_test, verbose=0)[1]*100)"
      ],
      "metadata": {
        "colab": {
          "base_uri": "https://localhost:8080/"
        },
        "id": "cRuVZV8uXioc",
        "outputId": "8588259e-83d4-4676-9559-e4714e2efd58"
      },
      "execution_count": 6,
      "outputs": [
        {
          "output_type": "stream",
          "name": "stdout",
          "text": [
            "Epoch 1/50\n",
            "469/469 - 2s - loss: 0.0146 - accuracy: 0.9026 - val_loss: 0.0101 - val_accuracy: 0.9341 - 2s/epoch - 5ms/step\n",
            "Epoch 2/50\n",
            "469/469 - 2s - loss: 0.0088 - accuracy: 0.9439 - val_loss: 0.0083 - val_accuracy: 0.9449 - 2s/epoch - 4ms/step\n",
            "Epoch 3/50\n",
            "469/469 - 2s - loss: 0.0065 - accuracy: 0.9591 - val_loss: 0.0060 - val_accuracy: 0.9618 - 2s/epoch - 3ms/step\n",
            "Epoch 4/50\n",
            "469/469 - 1s - loss: 0.0050 - accuracy: 0.9688 - val_loss: 0.0054 - val_accuracy: 0.9656 - 1s/epoch - 3ms/step\n",
            "Epoch 5/50\n",
            "469/469 - 1s - loss: 0.0041 - accuracy: 0.9755 - val_loss: 0.0045 - val_accuracy: 0.9713 - 1s/epoch - 3ms/step\n",
            "Epoch 6/50\n",
            "469/469 - 1s - loss: 0.0034 - accuracy: 0.9792 - val_loss: 0.0043 - val_accuracy: 0.9719 - 1s/epoch - 3ms/step\n",
            "Epoch 7/50\n",
            "469/469 - 2s - loss: 0.0028 - accuracy: 0.9831 - val_loss: 0.0039 - val_accuracy: 0.9744 - 2s/epoch - 4ms/step\n",
            "Epoch 8/50\n",
            "469/469 - 1s - loss: 0.0024 - accuracy: 0.9861 - val_loss: 0.0036 - val_accuracy: 0.9764 - 1s/epoch - 3ms/step\n",
            "Epoch 9/50\n",
            "469/469 - 1s - loss: 0.0020 - accuracy: 0.9887 - val_loss: 0.0032 - val_accuracy: 0.9792 - 1s/epoch - 3ms/step\n",
            "Epoch 10/50\n",
            "469/469 - 2s - loss: 0.0017 - accuracy: 0.9905 - val_loss: 0.0035 - val_accuracy: 0.9778 - 2s/epoch - 3ms/step\n",
            "Epoch 11/50\n",
            "469/469 - 2s - loss: 0.0015 - accuracy: 0.9916 - val_loss: 0.0034 - val_accuracy: 0.9772 - 2s/epoch - 4ms/step\n",
            "Epoch 12/50\n",
            "469/469 - 1s - loss: 0.0013 - accuracy: 0.9926 - val_loss: 0.0032 - val_accuracy: 0.9790 - 1s/epoch - 3ms/step\n",
            "Epoch 13/50\n",
            "469/469 - 1s - loss: 0.0011 - accuracy: 0.9943 - val_loss: 0.0032 - val_accuracy: 0.9794 - 1s/epoch - 3ms/step\n",
            "Epoch 14/50\n",
            "469/469 - 1s - loss: 9.0318e-04 - accuracy: 0.9954 - val_loss: 0.0031 - val_accuracy: 0.9794 - 1s/epoch - 3ms/step\n",
            "Epoch 15/50\n",
            "469/469 - 1s - loss: 8.1215e-04 - accuracy: 0.9959 - val_loss: 0.0032 - val_accuracy: 0.9790 - 1s/epoch - 3ms/step\n",
            "Epoch 16/50\n",
            "469/469 - 1s - loss: 7.0360e-04 - accuracy: 0.9963 - val_loss: 0.0032 - val_accuracy: 0.9797 - 1s/epoch - 3ms/step\n",
            "Epoch 17/50\n",
            "469/469 - 1s - loss: 6.1420e-04 - accuracy: 0.9968 - val_loss: 0.0030 - val_accuracy: 0.9805 - 1s/epoch - 3ms/step\n",
            "Epoch 18/50\n",
            "469/469 - 1s - loss: 6.1436e-04 - accuracy: 0.9970 - val_loss: 0.0031 - val_accuracy: 0.9805 - 1s/epoch - 3ms/step\n",
            "Epoch 19/50\n",
            "469/469 - 2s - loss: 5.8440e-04 - accuracy: 0.9970 - val_loss: 0.0032 - val_accuracy: 0.9784 - 2s/epoch - 4ms/step\n",
            "Epoch 20/50\n",
            "469/469 - 1s - loss: 5.0227e-04 - accuracy: 0.9976 - val_loss: 0.0032 - val_accuracy: 0.9800 - 1s/epoch - 3ms/step\n",
            "Epoch 21/50\n",
            "469/469 - 1s - loss: 4.7947e-04 - accuracy: 0.9976 - val_loss: 0.0029 - val_accuracy: 0.9805 - 1s/epoch - 3ms/step\n",
            "Epoch 22/50\n",
            "469/469 - 1s - loss: 3.9169e-04 - accuracy: 0.9981 - val_loss: 0.0029 - val_accuracy: 0.9816 - 1s/epoch - 3ms/step\n",
            "Epoch 23/50\n",
            "469/469 - 1s - loss: 3.3069e-04 - accuracy: 0.9984 - val_loss: 0.0029 - val_accuracy: 0.9805 - 1s/epoch - 3ms/step\n",
            "Epoch 24/50\n",
            "469/469 - 1s - loss: 3.5328e-04 - accuracy: 0.9982 - val_loss: 0.0038 - val_accuracy: 0.9752 - 1s/epoch - 3ms/step\n",
            "Epoch 25/50\n",
            "469/469 - 1s - loss: 5.1852e-04 - accuracy: 0.9972 - val_loss: 0.0034 - val_accuracy: 0.9779 - 1s/epoch - 3ms/step\n",
            "Epoch 26/50\n",
            "469/469 - 1s - loss: 4.4553e-04 - accuracy: 0.9976 - val_loss: 0.0026 - val_accuracy: 0.9832 - 1s/epoch - 3ms/step\n",
            "Epoch 27/50\n",
            "469/469 - 1s - loss: 2.9452e-04 - accuracy: 0.9985 - val_loss: 0.0027 - val_accuracy: 0.9826 - 1s/epoch - 3ms/step\n",
            "Epoch 28/50\n",
            "469/469 - 2s - loss: 3.0046e-04 - accuracy: 0.9985 - val_loss: 0.0030 - val_accuracy: 0.9807 - 2s/epoch - 4ms/step\n",
            "Epoch 29/50\n",
            "469/469 - 1s - loss: 3.8122e-04 - accuracy: 0.9979 - val_loss: 0.0032 - val_accuracy: 0.9796 - 1s/epoch - 3ms/step\n",
            "Epoch 30/50\n",
            "469/469 - 1s - loss: 3.9378e-04 - accuracy: 0.9977 - val_loss: 0.0034 - val_accuracy: 0.9779 - 1s/epoch - 3ms/step\n",
            "Epoch 31/50\n",
            "469/469 - 1s - loss: 3.4379e-04 - accuracy: 0.9981 - val_loss: 0.0027 - val_accuracy: 0.9838 - 1s/epoch - 3ms/step\n",
            "Epoch 32/50\n",
            "469/469 - 1s - loss: 2.3594e-04 - accuracy: 0.9987 - val_loss: 0.0028 - val_accuracy: 0.9826 - 1s/epoch - 3ms/step\n",
            "Epoch 33/50\n",
            "469/469 - 1s - loss: 2.3743e-04 - accuracy: 0.9988 - val_loss: 0.0029 - val_accuracy: 0.9816 - 1s/epoch - 3ms/step\n",
            "Epoch 34/50\n",
            "469/469 - 1s - loss: 3.0616e-04 - accuracy: 0.9984 - val_loss: 0.0032 - val_accuracy: 0.9790 - 1s/epoch - 3ms/step\n",
            "Epoch 35/50\n",
            "469/469 - 1s - loss: 2.8044e-04 - accuracy: 0.9986 - val_loss: 0.0032 - val_accuracy: 0.9795 - 1s/epoch - 3ms/step\n",
            "Epoch 36/50\n",
            "469/469 - 2s - loss: 2.3163e-04 - accuracy: 0.9988 - val_loss: 0.0034 - val_accuracy: 0.9785 - 2s/epoch - 3ms/step\n",
            "Epoch 37/50\n",
            "469/469 - 2s - loss: 2.5927e-04 - accuracy: 0.9986 - val_loss: 0.0030 - val_accuracy: 0.9806 - 2s/epoch - 4ms/step\n",
            "Epoch 38/50\n",
            "469/469 - 1s - loss: 2.8524e-04 - accuracy: 0.9984 - val_loss: 0.0033 - val_accuracy: 0.9794 - 1s/epoch - 3ms/step\n",
            "Epoch 39/50\n",
            "469/469 - 1s - loss: 2.4933e-04 - accuracy: 0.9987 - val_loss: 0.0031 - val_accuracy: 0.9808 - 1s/epoch - 3ms/step\n",
            "Epoch 40/50\n",
            "469/469 - 1s - loss: 2.9409e-04 - accuracy: 0.9983 - val_loss: 0.0034 - val_accuracy: 0.9793 - 1s/epoch - 3ms/step\n",
            "Epoch 41/50\n",
            "469/469 - 1s - loss: 2.6757e-04 - accuracy: 0.9985 - val_loss: 0.0033 - val_accuracy: 0.9796 - 1s/epoch - 3ms/step\n",
            "Epoch 42/50\n",
            "469/469 - 1s - loss: 2.7218e-04 - accuracy: 0.9985 - val_loss: 0.0031 - val_accuracy: 0.9805 - 1s/epoch - 3ms/step\n",
            "Epoch 43/50\n",
            "469/469 - 1s - loss: 1.9864e-04 - accuracy: 0.9989 - val_loss: 0.0029 - val_accuracy: 0.9819 - 1s/epoch - 3ms/step\n",
            "Epoch 44/50\n",
            "469/469 - 1s - loss: 1.7096e-04 - accuracy: 0.9991 - val_loss: 0.0032 - val_accuracy: 0.9796 - 1s/epoch - 3ms/step\n",
            "Epoch 45/50\n",
            "469/469 - 2s - loss: 2.8986e-04 - accuracy: 0.9984 - val_loss: 0.0031 - val_accuracy: 0.9803 - 2s/epoch - 4ms/step\n",
            "Epoch 46/50\n",
            "469/469 - 2s - loss: 2.2963e-04 - accuracy: 0.9987 - val_loss: 0.0030 - val_accuracy: 0.9812 - 2s/epoch - 3ms/step\n",
            "Epoch 47/50\n",
            "469/469 - 1s - loss: 2.7290e-04 - accuracy: 0.9985 - val_loss: 0.0032 - val_accuracy: 0.9802 - 1s/epoch - 3ms/step\n",
            "Epoch 48/50\n",
            "469/469 - 1s - loss: 2.2535e-04 - accuracy: 0.9987 - val_loss: 0.0031 - val_accuracy: 0.9804 - 1s/epoch - 3ms/step\n",
            "Epoch 49/50\n",
            "469/469 - 1s - loss: 1.9185e-04 - accuracy: 0.9990 - val_loss: 0.0029 - val_accuracy: 0.9820 - 1s/epoch - 3ms/step\n",
            "Epoch 50/50\n",
            "469/469 - 1s - loss: 1.7610e-04 - accuracy: 0.9991 - val_loss: 0.0028 - val_accuracy: 0.9828 - 1s/epoch - 3ms/step\n",
            "Adam 정확률 = 98.28000068664551\n"
          ]
        }
      ]
    },
    {
      "cell_type": "markdown",
      "source": [
        "## 4.성능 시각화"
      ],
      "metadata": {
        "id": "LM88_1weYfyR"
      }
    },
    {
      "cell_type": "code",
      "source": [
        "plt.plot(hist_sgd.history['accuracy'], 'r--')\n",
        "plt.plot(hist_sgd.history['val_accuracy'], 'r')\n",
        "plt.plot(hist_adam.history['accuracy'], 'b--')\n",
        "plt.plot(hist_adam.history['val_accuracy'], 'b')\n",
        "plt.title('Comparison of SGD and Adam optimizers')\n",
        "plt.ylim((0.7, 1.0))\n",
        "plt.xlabel('epochs')\n",
        "plt.ylabel('accuracy')\n",
        "plt.legend(['train_sgd', 'val_sgd', 'train_adam', 'val_adam'])\n",
        "plt.grid()\n",
        "plt.show()"
      ],
      "metadata": {
        "colab": {
          "base_uri": "https://localhost:8080/",
          "height": 472
        },
        "id": "19rD7ZjVYUyt",
        "outputId": "e6cbe86c-6e3a-4e39-d1e8-76f355fa3c80"
      },
      "execution_count": 7,
      "outputs": [
        {
          "output_type": "display_data",
          "data": {
            "text/plain": [
              "<Figure size 640x480 with 1 Axes>"
            ],
            "image/png": "[encoded data removed]"
          },
          "metadata": {}
        }
      ]
    },
    {
      "cell_type": "code",
      "source": [],
      "metadata": {
        "id": "Mo2z0G-IZVEx"
      },
      "execution_count": 7,
      "outputs": []
    }
  ]
}