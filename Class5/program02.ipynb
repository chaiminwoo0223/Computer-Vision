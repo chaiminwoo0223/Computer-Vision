{
  "nbformat": 4,
  "nbformat_minor": 0,
  "metadata": {
    "colab": {
      "provenance": [],
      "gpuType": "T4",
      "authorship_tag": "ABX9TyN6d/Y2u+hhoOrb77eohlvR",
      "include_colab_link": true
    },
    "kernelspec": {
      "name": "python3",
      "display_name": "Python 3"
    },
    "language_info": {
      "name": "python"
    },
    "accelerator": "GPU"
  },
  "cells": [
    {
      "cell_type": "markdown",
      "metadata": {
        "id": "view-in-github",
        "colab_type": "text"
      },
      "source": [
        "<a href=\"https://colab.research.google.com/github/chaiminwoo0223/Computer-Vision/blob/main/Class5/program02.ipynb\" target=\"_parent\"><img src=\"https://colab.research.google.com/assets/colab-badge.svg\" alt=\"Open In Colab\"/></a>"
      ]
    },
    {
      "cell_type": "markdown",
      "source": [
        "# 다층 퍼셉트론으로 MNIST 인식하기"
      ],
      "metadata": {
        "id": "Hvo2Z5vckp_Q"
      }
    },
    {
      "cell_type": "code",
      "execution_count": 1,
      "metadata": {
        "id": "87S6BTmikb2w"
      },
      "outputs": [],
      "source": [
        "import numpy as np\n",
        "import tensorflow as tf\n",
        "import tensorflow.keras.datasets as ds\n",
        "\n",
        "from tensorflow.keras.models import Sequential\n",
        "from tensorflow.keras.layers import Dense\n",
        "from tensorflow.keras.optimizers import SGD, Adam"
      ]
    },
    {
      "cell_type": "markdown",
      "source": [
        "## 1.데이터 준비"
      ],
      "metadata": {
        "id": "hJaA-hMYrOoG"
      }
    },
    {
      "cell_type": "code",
      "source": [
        "(x_train, y_train), (x_test, y_test) = ds.mnist.load_data()\n",
        "# 1차원 구조로 변환\n",
        "x_train = x_train.reshape(60000, 784)\n",
        "x_test = x_test.reshape(10000, 784)\n",
        "# [0, 1]로 정규화\n",
        "x_train = x_train.astype(np.float32) / 255.0\n",
        "x_test = x_test.astype(np.float32) / 255.0\n",
        "# 원핫 코드로 변환\n",
        "y_train = tf.keras.utils.to_categorical(y_train, 10)\n",
        "y_test = tf.keras.utils.to_categorical(y_test, 10)"
      ],
      "metadata": {
        "id": "SsJui3MXlQ0P"
      },
      "execution_count": 2,
      "outputs": []
    },
    {
      "cell_type": "markdown",
      "source": [
        "## 2.모델 선택(신경망 구조 설계)"
      ],
      "metadata": {
        "id": "8LJ6Xgr3mpP8"
      }
    },
    {
      "cell_type": "code",
      "source": [
        "mlp = Sequential()\n",
        "mlp.add(Dense(units=512, activation='tanh', input_shape=(784,))) # 은닉층 노드 개수 512, 활성 함수 tanh\n",
        "mlp.add(Dense(units=10, activation='softmax')) # 출력층 노드 개수 10, 활성 함수 softmax"
      ],
      "metadata": {
        "id": "n-aAsou8mxsl"
      },
      "execution_count": 3,
      "outputs": []
    },
    {
      "cell_type": "markdown",
      "source": [
        "## 3.학습(SGD 옵티마이저)"
      ],
      "metadata": {
        "id": "nsRIE0aSnfKx"
      }
    },
    {
      "cell_type": "code",
      "source": [
        "mlp.compile(loss='MSE', optimizer=SGD(learning_rate=0.01), metrics=['accuracy'])\n",
        "mlp.fit(x_train, y_train, batch_size=128, epochs=50, validation_data=(x_test, y_test), verbose=2)"
      ],
      "metadata": {
        "colab": {
          "base_uri": "https://localhost:8080/"
        },
        "id": "lyXpCXlfmxul",
        "outputId": "5ed98e3c-5ecd-492b-a3ee-afb2b2019425"
      },
      "execution_count": 4,
      "outputs": [
        {
          "output_type": "stream",
          "name": "stdout",
          "text": [
            "Epoch 1/50\n",
            "469/469 - 4s - loss: 0.0874 - accuracy: 0.2245 - val_loss: 0.0840 - val_accuracy: 0.3351 - 4s/epoch - 9ms/step\n",
            "Epoch 2/50\n",
            "469/469 - 1s - loss: 0.0800 - accuracy: 0.4450 - val_loss: 0.0758 - val_accuracy: 0.5288 - 1s/epoch - 3ms/step\n",
            "Epoch 3/50\n",
            "469/469 - 2s - loss: 0.0716 - accuracy: 0.5760 - val_loss: 0.0672 - val_accuracy: 0.6190 - 2s/epoch - 4ms/step\n",
            "Epoch 4/50\n",
            "469/469 - 2s - loss: 0.0636 - accuracy: 0.6459 - val_loss: 0.0595 - val_accuracy: 0.6791 - 2s/epoch - 4ms/step\n",
            "Epoch 5/50\n",
            "469/469 - 1s - loss: 0.0568 - accuracy: 0.6948 - val_loss: 0.0531 - val_accuracy: 0.7248 - 1s/epoch - 3ms/step\n",
            "Epoch 6/50\n",
            "469/469 - 1s - loss: 0.0512 - accuracy: 0.7336 - val_loss: 0.0480 - val_accuracy: 0.7590 - 1s/epoch - 3ms/step\n",
            "Epoch 7/50\n",
            "469/469 - 1s - loss: 0.0467 - accuracy: 0.7618 - val_loss: 0.0439 - val_accuracy: 0.7828 - 1s/epoch - 3ms/step\n",
            "Epoch 8/50\n",
            "469/469 - 1s - loss: 0.0431 - accuracy: 0.7820 - val_loss: 0.0406 - val_accuracy: 0.8007 - 1s/epoch - 3ms/step\n",
            "Epoch 9/50\n",
            "469/469 - 1s - loss: 0.0401 - accuracy: 0.7964 - val_loss: 0.0378 - val_accuracy: 0.8120 - 1s/epoch - 3ms/step\n",
            "Epoch 10/50\n",
            "469/469 - 1s - loss: 0.0377 - accuracy: 0.8084 - val_loss: 0.0356 - val_accuracy: 0.8224 - 1s/epoch - 3ms/step\n",
            "Epoch 11/50\n",
            "469/469 - 1s - loss: 0.0356 - accuracy: 0.8178 - val_loss: 0.0337 - val_accuracy: 0.8314 - 1s/epoch - 3ms/step\n",
            "Epoch 12/50\n",
            "469/469 - 2s - loss: 0.0339 - accuracy: 0.8252 - val_loss: 0.0321 - val_accuracy: 0.8359 - 2s/epoch - 4ms/step\n",
            "Epoch 13/50\n",
            "469/469 - 1s - loss: 0.0325 - accuracy: 0.8313 - val_loss: 0.0307 - val_accuracy: 0.8429 - 1s/epoch - 3ms/step\n",
            "Epoch 14/50\n",
            "469/469 - 1s - loss: 0.0312 - accuracy: 0.8363 - val_loss: 0.0295 - val_accuracy: 0.8482 - 1s/epoch - 3ms/step\n",
            "Epoch 15/50\n",
            "469/469 - 1s - loss: 0.0301 - accuracy: 0.8403 - val_loss: 0.0285 - val_accuracy: 0.8521 - 1s/epoch - 3ms/step\n",
            "Epoch 16/50\n",
            "469/469 - 1s - loss: 0.0291 - accuracy: 0.8444 - val_loss: 0.0275 - val_accuracy: 0.8555 - 1s/epoch - 3ms/step\n",
            "Epoch 17/50\n",
            "469/469 - 1s - loss: 0.0283 - accuracy: 0.8474 - val_loss: 0.0267 - val_accuracy: 0.8592 - 1s/epoch - 3ms/step\n",
            "Epoch 18/50\n",
            "469/469 - 1s - loss: 0.0275 - accuracy: 0.8503 - val_loss: 0.0260 - val_accuracy: 0.8608 - 1s/epoch - 3ms/step\n",
            "Epoch 19/50\n",
            "469/469 - 1s - loss: 0.0268 - accuracy: 0.8527 - val_loss: 0.0253 - val_accuracy: 0.8644 - 1s/epoch - 3ms/step\n",
            "Epoch 20/50\n",
            "469/469 - 1s - loss: 0.0262 - accuracy: 0.8554 - val_loss: 0.0248 - val_accuracy: 0.8672 - 1s/epoch - 3ms/step\n",
            "Epoch 21/50\n",
            "469/469 - 2s - loss: 0.0256 - accuracy: 0.8575 - val_loss: 0.0242 - val_accuracy: 0.8691 - 2s/epoch - 4ms/step\n",
            "Epoch 22/50\n",
            "469/469 - 1s - loss: 0.0251 - accuracy: 0.8596 - val_loss: 0.0237 - val_accuracy: 0.8700 - 1s/epoch - 3ms/step\n",
            "Epoch 23/50\n",
            "469/469 - 1s - loss: 0.0247 - accuracy: 0.8615 - val_loss: 0.0233 - val_accuracy: 0.8729 - 1s/epoch - 3ms/step\n",
            "Epoch 24/50\n",
            "469/469 - 1s - loss: 0.0242 - accuracy: 0.8633 - val_loss: 0.0229 - val_accuracy: 0.8742 - 1s/epoch - 3ms/step\n",
            "Epoch 25/50\n",
            "469/469 - 1s - loss: 0.0238 - accuracy: 0.8651 - val_loss: 0.0225 - val_accuracy: 0.8752 - 1s/epoch - 3ms/step\n",
            "Epoch 26/50\n",
            "469/469 - 1s - loss: 0.0234 - accuracy: 0.8667 - val_loss: 0.0221 - val_accuracy: 0.8770 - 1s/epoch - 3ms/step\n",
            "Epoch 27/50\n",
            "469/469 - 1s - loss: 0.0231 - accuracy: 0.8686 - val_loss: 0.0218 - val_accuracy: 0.8790 - 1s/epoch - 3ms/step\n",
            "Epoch 28/50\n",
            "469/469 - 1s - loss: 0.0228 - accuracy: 0.8699 - val_loss: 0.0215 - val_accuracy: 0.8802 - 1s/epoch - 3ms/step\n",
            "Epoch 29/50\n",
            "469/469 - 1s - loss: 0.0225 - accuracy: 0.8714 - val_loss: 0.0212 - val_accuracy: 0.8814 - 1s/epoch - 3ms/step\n",
            "Epoch 30/50\n",
            "469/469 - 2s - loss: 0.0222 - accuracy: 0.8725 - val_loss: 0.0209 - val_accuracy: 0.8821 - 2s/epoch - 4ms/step\n",
            "Epoch 31/50\n",
            "469/469 - 1s - loss: 0.0219 - accuracy: 0.8736 - val_loss: 0.0207 - val_accuracy: 0.8829 - 1s/epoch - 3ms/step\n",
            "Epoch 32/50\n",
            "469/469 - 1s - loss: 0.0217 - accuracy: 0.8742 - val_loss: 0.0204 - val_accuracy: 0.8837 - 1s/epoch - 3ms/step\n",
            "Epoch 33/50\n",
            "469/469 - 1s - loss: 0.0214 - accuracy: 0.8752 - val_loss: 0.0202 - val_accuracy: 0.8843 - 1s/epoch - 3ms/step\n",
            "Epoch 34/50\n",
            "469/469 - 1s - loss: 0.0212 - accuracy: 0.8759 - val_loss: 0.0200 - val_accuracy: 0.8858 - 1s/epoch - 3ms/step\n",
            "Epoch 35/50\n",
            "469/469 - 1s - loss: 0.0210 - accuracy: 0.8769 - val_loss: 0.0198 - val_accuracy: 0.8865 - 1s/epoch - 3ms/step\n",
            "Epoch 36/50\n",
            "469/469 - 1s - loss: 0.0208 - accuracy: 0.8775 - val_loss: 0.0196 - val_accuracy: 0.8885 - 1s/epoch - 3ms/step\n",
            "Epoch 37/50\n",
            "469/469 - 1s - loss: 0.0206 - accuracy: 0.8782 - val_loss: 0.0194 - val_accuracy: 0.8890 - 1s/epoch - 3ms/step\n",
            "Epoch 38/50\n",
            "469/469 - 1s - loss: 0.0204 - accuracy: 0.8789 - val_loss: 0.0192 - val_accuracy: 0.8898 - 1s/epoch - 3ms/step\n",
            "Epoch 39/50\n",
            "469/469 - 2s - loss: 0.0202 - accuracy: 0.8801 - val_loss: 0.0191 - val_accuracy: 0.8901 - 2s/epoch - 4ms/step\n",
            "Epoch 40/50\n",
            "469/469 - 1s - loss: 0.0201 - accuracy: 0.8807 - val_loss: 0.0189 - val_accuracy: 0.8904 - 1s/epoch - 3ms/step\n",
            "Epoch 41/50\n",
            "469/469 - 1s - loss: 0.0199 - accuracy: 0.8813 - val_loss: 0.0187 - val_accuracy: 0.8910 - 1s/epoch - 3ms/step\n",
            "Epoch 42/50\n",
            "469/469 - 1s - loss: 0.0197 - accuracy: 0.8821 - val_loss: 0.0186 - val_accuracy: 0.8916 - 1s/epoch - 3ms/step\n",
            "Epoch 43/50\n",
            "469/469 - 1s - loss: 0.0196 - accuracy: 0.8828 - val_loss: 0.0185 - val_accuracy: 0.8922 - 1s/epoch - 3ms/step\n",
            "Epoch 44/50\n",
            "469/469 - 1s - loss: 0.0194 - accuracy: 0.8836 - val_loss: 0.0183 - val_accuracy: 0.8925 - 1s/epoch - 3ms/step\n",
            "Epoch 45/50\n",
            "469/469 - 1s - loss: 0.0193 - accuracy: 0.8840 - val_loss: 0.0182 - val_accuracy: 0.8935 - 1s/epoch - 3ms/step\n",
            "Epoch 46/50\n",
            "469/469 - 1s - loss: 0.0192 - accuracy: 0.8846 - val_loss: 0.0181 - val_accuracy: 0.8939 - 1s/epoch - 3ms/step\n",
            "Epoch 47/50\n",
            "469/469 - 1s - loss: 0.0190 - accuracy: 0.8853 - val_loss: 0.0179 - val_accuracy: 0.8941 - 1s/epoch - 3ms/step\n",
            "Epoch 48/50\n",
            "469/469 - 2s - loss: 0.0189 - accuracy: 0.8860 - val_loss: 0.0178 - val_accuracy: 0.8948 - 2s/epoch - 4ms/step\n",
            "Epoch 49/50\n",
            "469/469 - 1s - loss: 0.0188 - accuracy: 0.8866 - val_loss: 0.0177 - val_accuracy: 0.8953 - 1s/epoch - 3ms/step\n",
            "Epoch 50/50\n",
            "469/469 - 1s - loss: 0.0187 - accuracy: 0.8871 - val_loss: 0.0176 - val_accuracy: 0.8959 - 1s/epoch - 3ms/step\n"
          ]
        },
        {
          "output_type": "execute_result",
          "data": {
            "text/plain": [
              "<keras.src.callbacks.History at 0x7b7ad1b05690>"
            ]
          },
          "metadata": {},
          "execution_count": 4
        }
      ]
    },
    {
      "cell_type": "markdown",
      "source": [
        "## 4.예측(성능 측정)"
      ],
      "metadata": {
        "id": "veuNI_eZoH0W"
      }
    },
    {
      "cell_type": "code",
      "source": [
        "res = mlp.evaluate(x_test, y_test, verbose=0)\n",
        "print('정확률 =', res[1]*100)"
      ],
      "metadata": {
        "colab": {
          "base_uri": "https://localhost:8080/"
        },
        "id": "VRB3pGShmxxu",
        "outputId": "25473dff-6c10-411e-b326-753df534e807"
      },
      "execution_count": 5,
      "outputs": [
        {
          "output_type": "stream",
          "name": "stdout",
          "text": [
            "정확률 = 89.5900011062622\n"
          ]
        }
      ]
    },
    {
      "cell_type": "markdown",
      "source": [
        "## 5.성능 개선(Adam 옵티마이저)"
      ],
      "metadata": {
        "id": "h9jCRmeSpG7j"
      }
    },
    {
      "cell_type": "code",
      "source": [
        "mlp.compile(loss='MSE', optimizer=Adam(learning_rate=0.001), metrics=['accuracy'])\n",
        "mlp.fit(x_train, y_train, batch_size=128, epochs=50, validation_data=(x_test, y_test), verbose=2)\n",
        "res = mlp.evaluate(x_test, y_test, verbose=0)\n",
        "print('정확률 =', res[1]*100)"
      ],
      "metadata": {
        "colab": {
          "base_uri": "https://localhost:8080/"
        },
        "id": "1PQ-jCIIogjf",
        "outputId": "657d25fc-7051-47de-cdde-cc89d985f8d5"
      },
      "execution_count": 6,
      "outputs": [
        {
          "output_type": "stream",
          "name": "stdout",
          "text": [
            "Epoch 1/50\n",
            "469/469 - 2s - loss: 0.0133 - accuracy: 0.9124 - val_loss: 0.0107 - val_accuracy: 0.9300 - 2s/epoch - 5ms/step\n",
            "Epoch 2/50\n",
            "469/469 - 1s - loss: 0.0091 - accuracy: 0.9416 - val_loss: 0.0076 - val_accuracy: 0.9518 - 1s/epoch - 3ms/step\n",
            "Epoch 3/50\n",
            "469/469 - 1s - loss: 0.0067 - accuracy: 0.9579 - val_loss: 0.0062 - val_accuracy: 0.9604 - 1s/epoch - 3ms/step\n",
            "Epoch 4/50\n",
            "469/469 - 2s - loss: 0.0052 - accuracy: 0.9675 - val_loss: 0.0050 - val_accuracy: 0.9672 - 2s/epoch - 3ms/step\n",
            "Epoch 5/50\n",
            "469/469 - 2s - loss: 0.0042 - accuracy: 0.9741 - val_loss: 0.0047 - val_accuracy: 0.9702 - 2s/epoch - 4ms/step\n",
            "Epoch 6/50\n",
            "469/469 - 1s - loss: 0.0035 - accuracy: 0.9790 - val_loss: 0.0041 - val_accuracy: 0.9732 - 1s/epoch - 3ms/step\n",
            "Epoch 7/50\n",
            "469/469 - 1s - loss: 0.0030 - accuracy: 0.9819 - val_loss: 0.0040 - val_accuracy: 0.9742 - 1s/epoch - 3ms/step\n",
            "Epoch 8/50\n",
            "469/469 - 1s - loss: 0.0025 - accuracy: 0.9858 - val_loss: 0.0037 - val_accuracy: 0.9748 - 1s/epoch - 3ms/step\n",
            "Epoch 9/50\n",
            "469/469 - 1s - loss: 0.0021 - accuracy: 0.9884 - val_loss: 0.0038 - val_accuracy: 0.9748 - 1s/epoch - 3ms/step\n",
            "Epoch 10/50\n",
            "469/469 - 1s - loss: 0.0018 - accuracy: 0.9892 - val_loss: 0.0034 - val_accuracy: 0.9784 - 1s/epoch - 3ms/step\n",
            "Epoch 11/50\n",
            "469/469 - 1s - loss: 0.0015 - accuracy: 0.9920 - val_loss: 0.0035 - val_accuracy: 0.9780 - 1s/epoch - 3ms/step\n",
            "Epoch 12/50\n",
            "469/469 - 1s - loss: 0.0013 - accuracy: 0.9929 - val_loss: 0.0033 - val_accuracy: 0.9798 - 1s/epoch - 3ms/step\n",
            "Epoch 13/50\n",
            "469/469 - 2s - loss: 0.0012 - accuracy: 0.9936 - val_loss: 0.0031 - val_accuracy: 0.9795 - 2s/epoch - 3ms/step\n",
            "Epoch 14/50\n",
            "469/469 - 2s - loss: 9.7889e-04 - accuracy: 0.9948 - val_loss: 0.0032 - val_accuracy: 0.9794 - 2s/epoch - 4ms/step\n",
            "Epoch 15/50\n",
            "469/469 - 2s - loss: 8.5051e-04 - accuracy: 0.9957 - val_loss: 0.0033 - val_accuracy: 0.9784 - 2s/epoch - 4ms/step\n",
            "Epoch 16/50\n",
            "469/469 - 1s - loss: 7.6885e-04 - accuracy: 0.9960 - val_loss: 0.0031 - val_accuracy: 0.9793 - 1s/epoch - 3ms/step\n",
            "Epoch 17/50\n",
            "469/469 - 1s - loss: 8.4489e-04 - accuracy: 0.9955 - val_loss: 0.0031 - val_accuracy: 0.9792 - 1s/epoch - 3ms/step\n",
            "Epoch 18/50\n",
            "469/469 - 1s - loss: 6.2993e-04 - accuracy: 0.9969 - val_loss: 0.0030 - val_accuracy: 0.9812 - 1s/epoch - 3ms/step\n",
            "Epoch 19/50\n",
            "469/469 - 1s - loss: 5.2832e-04 - accuracy: 0.9973 - val_loss: 0.0030 - val_accuracy: 0.9812 - 1s/epoch - 3ms/step\n",
            "Epoch 20/50\n",
            "469/469 - 1s - loss: 5.0492e-04 - accuracy: 0.9975 - val_loss: 0.0029 - val_accuracy: 0.9810 - 1s/epoch - 3ms/step\n",
            "Epoch 21/50\n",
            "469/469 - 1s - loss: 4.5322e-04 - accuracy: 0.9977 - val_loss: 0.0030 - val_accuracy: 0.9812 - 1s/epoch - 3ms/step\n",
            "Epoch 22/50\n",
            "469/469 - 2s - loss: 5.2321e-04 - accuracy: 0.9973 - val_loss: 0.0030 - val_accuracy: 0.9803 - 2s/epoch - 4ms/step\n",
            "Epoch 23/50\n",
            "469/469 - 1s - loss: 4.0734e-04 - accuracy: 0.9980 - val_loss: 0.0031 - val_accuracy: 0.9802 - 1s/epoch - 3ms/step\n",
            "Epoch 24/50\n",
            "469/469 - 1s - loss: 4.0046e-04 - accuracy: 0.9980 - val_loss: 0.0032 - val_accuracy: 0.9793 - 1s/epoch - 3ms/step\n",
            "Epoch 25/50\n",
            "469/469 - 1s - loss: 4.1311e-04 - accuracy: 0.9979 - val_loss: 0.0032 - val_accuracy: 0.9798 - 1s/epoch - 3ms/step\n",
            "Epoch 26/50\n",
            "469/469 - 1s - loss: 3.6257e-04 - accuracy: 0.9982 - val_loss: 0.0030 - val_accuracy: 0.9811 - 1s/epoch - 3ms/step\n",
            "Epoch 27/50\n",
            "469/469 - 1s - loss: 2.9958e-04 - accuracy: 0.9986 - val_loss: 0.0032 - val_accuracy: 0.9798 - 1s/epoch - 3ms/step\n",
            "Epoch 28/50\n",
            "469/469 - 1s - loss: 2.8449e-04 - accuracy: 0.9986 - val_loss: 0.0030 - val_accuracy: 0.9802 - 1s/epoch - 3ms/step\n",
            "Epoch 29/50\n",
            "469/469 - 1s - loss: 2.9655e-04 - accuracy: 0.9985 - val_loss: 0.0031 - val_accuracy: 0.9801 - 1s/epoch - 3ms/step\n",
            "Epoch 30/50\n",
            "469/469 - 1s - loss: 4.3055e-04 - accuracy: 0.9976 - val_loss: 0.0033 - val_accuracy: 0.9789 - 1s/epoch - 3ms/step\n",
            "Epoch 31/50\n",
            "469/469 - 2s - loss: 4.0126e-04 - accuracy: 0.9977 - val_loss: 0.0030 - val_accuracy: 0.9814 - 2s/epoch - 4ms/step\n",
            "Epoch 32/50\n",
            "469/469 - 1s - loss: 2.8867e-04 - accuracy: 0.9985 - val_loss: 0.0033 - val_accuracy: 0.9790 - 1s/epoch - 3ms/step\n",
            "Epoch 33/50\n",
            "469/469 - 1s - loss: 2.2929e-04 - accuracy: 0.9988 - val_loss: 0.0030 - val_accuracy: 0.9801 - 1s/epoch - 3ms/step\n",
            "Epoch 34/50\n",
            "469/469 - 1s - loss: 2.3747e-04 - accuracy: 0.9987 - val_loss: 0.0029 - val_accuracy: 0.9822 - 1s/epoch - 3ms/step\n",
            "Epoch 35/50\n",
            "469/469 - 1s - loss: 3.6128e-04 - accuracy: 0.9980 - val_loss: 0.0032 - val_accuracy: 0.9793 - 1s/epoch - 3ms/step\n",
            "Epoch 36/50\n",
            "469/469 - 1s - loss: 3.0983e-04 - accuracy: 0.9984 - val_loss: 0.0030 - val_accuracy: 0.9810 - 1s/epoch - 3ms/step\n",
            "Epoch 37/50\n",
            "469/469 - 1s - loss: 2.8412e-04 - accuracy: 0.9984 - val_loss: 0.0031 - val_accuracy: 0.9796 - 1s/epoch - 3ms/step\n",
            "Epoch 38/50\n",
            "469/469 - 1s - loss: 2.1826e-04 - accuracy: 0.9988 - val_loss: 0.0031 - val_accuracy: 0.9803 - 1s/epoch - 3ms/step\n",
            "Epoch 39/50\n",
            "469/469 - 2s - loss: 2.6722e-04 - accuracy: 0.9986 - val_loss: 0.0031 - val_accuracy: 0.9809 - 2s/epoch - 3ms/step\n",
            "Epoch 40/50\n",
            "469/469 - 2s - loss: 3.2206e-04 - accuracy: 0.9982 - val_loss: 0.0027 - val_accuracy: 0.9834 - 2s/epoch - 4ms/step\n",
            "Epoch 41/50\n",
            "469/469 - 1s - loss: 2.1335e-04 - accuracy: 0.9989 - val_loss: 0.0030 - val_accuracy: 0.9805 - 1s/epoch - 3ms/step\n",
            "Epoch 42/50\n",
            "469/469 - 1s - loss: 2.7502e-04 - accuracy: 0.9984 - val_loss: 0.0030 - val_accuracy: 0.9821 - 1s/epoch - 3ms/step\n",
            "Epoch 43/50\n",
            "469/469 - 1s - loss: 2.7940e-04 - accuracy: 0.9984 - val_loss: 0.0030 - val_accuracy: 0.9805 - 1s/epoch - 3ms/step\n",
            "Epoch 44/50\n",
            "469/469 - 1s - loss: 1.8924e-04 - accuracy: 0.9990 - val_loss: 0.0028 - val_accuracy: 0.9821 - 1s/epoch - 3ms/step\n",
            "Epoch 45/50\n",
            "469/469 - 1s - loss: 2.7531e-04 - accuracy: 0.9985 - val_loss: 0.0030 - val_accuracy: 0.9820 - 1s/epoch - 3ms/step\n",
            "Epoch 46/50\n",
            "469/469 - 1s - loss: 1.9832e-04 - accuracy: 0.9990 - val_loss: 0.0029 - val_accuracy: 0.9813 - 1s/epoch - 3ms/step\n",
            "Epoch 47/50\n",
            "469/469 - 1s - loss: 1.8312e-04 - accuracy: 0.9991 - val_loss: 0.0030 - val_accuracy: 0.9815 - 1s/epoch - 3ms/step\n",
            "Epoch 48/50\n",
            "469/469 - 2s - loss: 3.0945e-04 - accuracy: 0.9983 - val_loss: 0.0033 - val_accuracy: 0.9798 - 2s/epoch - 4ms/step\n",
            "Epoch 49/50\n",
            "469/469 - 1s - loss: 2.7507e-04 - accuracy: 0.9985 - val_loss: 0.0031 - val_accuracy: 0.9815 - 1s/epoch - 3ms/step\n",
            "Epoch 50/50\n",
            "469/469 - 1s - loss: 1.9914e-04 - accuracy: 0.9990 - val_loss: 0.0030 - val_accuracy: 0.9821 - 1s/epoch - 3ms/step\n",
            "정확률 = 98.21000099182129\n"
          ]
        }
      ]
    },
    {
      "cell_type": "code",
      "source": [],
      "metadata": {
        "id": "J3v4zFjGpVa_"
      },
      "execution_count": 6,
      "outputs": []
    }
  ]
}