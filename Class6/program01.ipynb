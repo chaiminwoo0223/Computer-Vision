{
  "nbformat": 4,
  "nbformat_minor": 0,
  "metadata": {
    "colab": {
      "provenance": [],
      "gpuType": "T4",
      "authorship_tag": "ABX9TyM9TsVvFYrbsIVdByzxu+lM",
      "include_colab_link": true
    },
    "kernelspec": {
      "name": "python3",
      "display_name": "Python 3"
    },
    "language_info": {
      "name": "python"
    },
    "accelerator": "GPU"
  },
  "cells": [
    {
      "cell_type": "markdown",
      "metadata": {
        "id": "view-in-github",
        "colab_type": "text"
      },
      "source": [
        "<a href=\"https://colab.research.google.com/github/chaiminwoo0223/Computer-Vision/blob/main/Class6/program01.ipynb\" target=\"_parent\"><img src=\"https://colab.research.google.com/assets/colab-badge.svg\" alt=\"Open In Colab\"/></a>"
      ]
    },
    {
      "cell_type": "markdown",
      "source": [
        "# LeNet-5로 MNIST 인식하기"
      ],
      "metadata": {
        "id": "1FV0syna9Ft_"
      }
    },
    {
      "cell_type": "code",
      "execution_count": 1,
      "metadata": {
        "id": "9AP9l7eA82i7"
      },
      "outputs": [],
      "source": [
        "import numpy as np\n",
        "import tensorflow as tf\n",
        "import tensorflow.keras.datasets as ds\n",
        "\n",
        "from tensorflow.keras.models import Sequential\n",
        "from tensorflow.keras.layers import Conv2D, MaxPooling2D, Flatten, Dropout, Dense\n",
        "from tensorflow.keras.optimizers import Adam"
      ]
    },
    {
      "cell_type": "markdown",
      "source": [
        "## 1.데이터 준비"
      ],
      "metadata": {
        "id": "IQ9Yi4D-9ak9"
      }
    },
    {
      "cell_type": "code",
      "source": [
        "(x_train, y_train), (x_test, y_test) = ds.mnist.load_data()\n",
        "# 2차원 구조로 변환\n",
        "x_train = x_train.reshape(60000, 28, 28, 1)\n",
        "x_test = x_test.reshape(10000, 28, 28, 1)\n",
        "# [0, 1]로 정규화\n",
        "x_train = x_train.astype(np.float32) / 255.0\n",
        "x_test = x_test.astype(np.float32) / 255.0\n",
        "# 원핫 코드로 변환\n",
        "y_train = tf.keras.utils.to_categorical(y_train, 10)\n",
        "y_test = tf.keras.utils.to_categorical(y_test, 10)"
      ],
      "metadata": {
        "id": "_7n2b8YF9XRU",
        "colab": {
          "base_uri": "https://localhost:8080/"
        },
        "outputId": "e5186079-7a0a-45a3-ca4a-e0c3975b9994"
      },
      "execution_count": 2,
      "outputs": [
        {
          "output_type": "stream",
          "name": "stdout",
          "text": [
            "Downloading data from https://storage.googleapis.com/tensorflow/tf-keras-datasets/mnist.npz\n",
            "11490434/11490434 [==============================] - 0s 0us/step\n"
          ]
        }
      ]
    },
    {
      "cell_type": "markdown",
      "source": [
        "## 2.모델 선택(신경망 구조 설계)"
      ],
      "metadata": {
        "id": "tdmjI6RZ9z4g"
      }
    },
    {
      "cell_type": "code",
      "source": [
        "cnn = Sequential()\n",
        "cnn.add(Conv2D(6, (5,5), padding='same', activation='relu', input_shape=(28,28,1))) # 컨볼루션 층(5*5 커널을 6개 사용)\n",
        "cnn.add(MaxPooling2D(pool_size=(2,2), strides=2))\n",
        "cnn.add(Conv2D(16, (5,5), padding='valid', activation='relu')) # 컨볼루션 층(5*5 커널을 16개 사용)\n",
        "cnn.add(MaxPooling2D(pool_size=(2,2), strides=2))\n",
        "cnn.add(Conv2D(120, (5,5), padding='valid', activation='relu')) # 컨볼루션 층(5*5 커널을 120개 사용)\n",
        "cnn.add(Flatten()) # 1차원 구조로 변환\n",
        "cnn.add(Dense(units=84, activation='relu'))\n",
        "cnn.add(Dense(units=10, activation='softmax'))"
      ],
      "metadata": {
        "id": "Rm0jeJMP9xrt"
      },
      "execution_count": 3,
      "outputs": []
    },
    {
      "cell_type": "markdown",
      "source": [
        "## 3.학습"
      ],
      "metadata": {
        "id": "Z0b_-_s7_Hga"
      }
    },
    {
      "cell_type": "code",
      "source": [
        "cnn.compile(loss='categorical_crossentropy', optimizer=Adam(learning_rate=0.001), metrics=['accuracy'])\n",
        "cnn.fit(x_train, y_train, batch_size=128, epochs=30, validation_data=(x_test,y_test), verbose=2)"
      ],
      "metadata": {
        "colab": {
          "base_uri": "https://localhost:8080/"
        },
        "id": "n612DGDm_FFl",
        "outputId": "943c32d0-c0a3-42bc-d8c3-b3be634610ff"
      },
      "execution_count": 4,
      "outputs": [
        {
          "output_type": "stream",
          "name": "stdout",
          "text": [
            "Epoch 1/30\n",
            "469/469 - 11s - loss: 0.3166 - accuracy: 0.9044 - val_loss: 0.0857 - val_accuracy: 0.9723 - 11s/epoch - 23ms/step\n",
            "Epoch 2/30\n",
            "469/469 - 3s - loss: 0.0824 - accuracy: 0.9747 - val_loss: 0.0526 - val_accuracy: 0.9831 - 3s/epoch - 6ms/step\n",
            "Epoch 3/30\n",
            "469/469 - 3s - loss: 0.0587 - accuracy: 0.9812 - val_loss: 0.0472 - val_accuracy: 0.9863 - 3s/epoch - 7ms/step\n",
            "Epoch 4/30\n",
            "469/469 - 2s - loss: 0.0458 - accuracy: 0.9857 - val_loss: 0.0396 - val_accuracy: 0.9876 - 2s/epoch - 5ms/step\n",
            "Epoch 5/30\n",
            "469/469 - 2s - loss: 0.0372 - accuracy: 0.9880 - val_loss: 0.0371 - val_accuracy: 0.9876 - 2s/epoch - 4ms/step\n",
            "Epoch 6/30\n",
            "469/469 - 2s - loss: 0.0329 - accuracy: 0.9898 - val_loss: 0.0315 - val_accuracy: 0.9896 - 2s/epoch - 4ms/step\n",
            "Epoch 7/30\n",
            "469/469 - 2s - loss: 0.0266 - accuracy: 0.9914 - val_loss: 0.0357 - val_accuracy: 0.9886 - 2s/epoch - 4ms/step\n",
            "Epoch 8/30\n",
            "469/469 - 2s - loss: 0.0237 - accuracy: 0.9925 - val_loss: 0.0372 - val_accuracy: 0.9881 - 2s/epoch - 4ms/step\n",
            "Epoch 9/30\n",
            "469/469 - 3s - loss: 0.0214 - accuracy: 0.9927 - val_loss: 0.0296 - val_accuracy: 0.9903 - 3s/epoch - 5ms/step\n",
            "Epoch 10/30\n",
            "469/469 - 2s - loss: 0.0202 - accuracy: 0.9934 - val_loss: 0.0346 - val_accuracy: 0.9888 - 2s/epoch - 5ms/step\n",
            "Epoch 11/30\n",
            "469/469 - 2s - loss: 0.0162 - accuracy: 0.9948 - val_loss: 0.0349 - val_accuracy: 0.9894 - 2s/epoch - 5ms/step\n",
            "Epoch 12/30\n",
            "469/469 - 2s - loss: 0.0151 - accuracy: 0.9950 - val_loss: 0.0372 - val_accuracy: 0.9890 - 2s/epoch - 4ms/step\n",
            "Epoch 13/30\n",
            "469/469 - 2s - loss: 0.0135 - accuracy: 0.9955 - val_loss: 0.0406 - val_accuracy: 0.9869 - 2s/epoch - 4ms/step\n",
            "Epoch 14/30\n",
            "469/469 - 2s - loss: 0.0131 - accuracy: 0.9954 - val_loss: 0.0357 - val_accuracy: 0.9904 - 2s/epoch - 5ms/step\n",
            "Epoch 15/30\n",
            "469/469 - 2s - loss: 0.0116 - accuracy: 0.9963 - val_loss: 0.0283 - val_accuracy: 0.9920 - 2s/epoch - 5ms/step\n",
            "Epoch 16/30\n",
            "469/469 - 2s - loss: 0.0105 - accuracy: 0.9965 - val_loss: 0.0366 - val_accuracy: 0.9897 - 2s/epoch - 4ms/step\n",
            "Epoch 17/30\n",
            "469/469 - 2s - loss: 0.0086 - accuracy: 0.9971 - val_loss: 0.0333 - val_accuracy: 0.9907 - 2s/epoch - 4ms/step\n",
            "Epoch 18/30\n",
            "469/469 - 2s - loss: 0.0087 - accuracy: 0.9970 - val_loss: 0.0440 - val_accuracy: 0.9885 - 2s/epoch - 4ms/step\n",
            "Epoch 19/30\n",
            "469/469 - 2s - loss: 0.0092 - accuracy: 0.9968 - val_loss: 0.0444 - val_accuracy: 0.9890 - 2s/epoch - 4ms/step\n",
            "Epoch 20/30\n",
            "469/469 - 2s - loss: 0.0078 - accuracy: 0.9974 - val_loss: 0.0492 - val_accuracy: 0.9875 - 2s/epoch - 5ms/step\n",
            "Epoch 21/30\n",
            "469/469 - 2s - loss: 0.0073 - accuracy: 0.9972 - val_loss: 0.0501 - val_accuracy: 0.9891 - 2s/epoch - 5ms/step\n",
            "Epoch 22/30\n",
            "469/469 - 2s - loss: 0.0070 - accuracy: 0.9975 - val_loss: 0.0456 - val_accuracy: 0.9896 - 2s/epoch - 4ms/step\n",
            "Epoch 23/30\n",
            "469/469 - 2s - loss: 0.0075 - accuracy: 0.9974 - val_loss: 0.0522 - val_accuracy: 0.9869 - 2s/epoch - 4ms/step\n",
            "Epoch 24/30\n",
            "469/469 - 2s - loss: 0.0048 - accuracy: 0.9984 - val_loss: 0.0438 - val_accuracy: 0.9894 - 2s/epoch - 4ms/step\n",
            "Epoch 25/30\n",
            "469/469 - 2s - loss: 0.0058 - accuracy: 0.9981 - val_loss: 0.0474 - val_accuracy: 0.9893 - 2s/epoch - 4ms/step\n",
            "Epoch 26/30\n",
            "469/469 - 2s - loss: 0.0069 - accuracy: 0.9975 - val_loss: 0.0534 - val_accuracy: 0.9881 - 2s/epoch - 4ms/step\n",
            "Epoch 27/30\n",
            "469/469 - 2s - loss: 0.0049 - accuracy: 0.9984 - val_loss: 0.0475 - val_accuracy: 0.9899 - 2s/epoch - 5ms/step\n",
            "Epoch 28/30\n",
            "469/469 - 2s - loss: 0.0042 - accuracy: 0.9986 - val_loss: 0.0474 - val_accuracy: 0.9891 - 2s/epoch - 4ms/step\n",
            "Epoch 29/30\n",
            "469/469 - 2s - loss: 0.0070 - accuracy: 0.9977 - val_loss: 0.0579 - val_accuracy: 0.9861 - 2s/epoch - 4ms/step\n",
            "Epoch 30/30\n",
            "469/469 - 2s - loss: 0.0042 - accuracy: 0.9984 - val_loss: 0.0409 - val_accuracy: 0.9902 - 2s/epoch - 4ms/step\n"
          ]
        },
        {
          "output_type": "execute_result",
          "data": {
            "text/plain": [
              "<keras.src.callbacks.History at 0x7c004e811060>"
            ]
          },
          "metadata": {},
          "execution_count": 4
        }
      ]
    },
    {
      "cell_type": "markdown",
      "source": [
        "## 4.예측(성능 측정)"
      ],
      "metadata": {
        "id": "n9uRi-wp_vkx"
      }
    },
    {
      "cell_type": "code",
      "source": [
        "res = cnn.evaluate(x_test, y_test, verbose=0)\n",
        "print('정확률 = ', res[1]*100)"
      ],
      "metadata": {
        "colab": {
          "base_uri": "https://localhost:8080/"
        },
        "id": "VStVbFfK_udC",
        "outputId": "3e94bcf3-bfde-4227-c64d-0533313f6072"
      },
      "execution_count": 5,
      "outputs": [
        {
          "output_type": "stream",
          "name": "stdout",
          "text": [
            "정확률 =  99.01999831199646\n"
          ]
        }
      ]
    },
    {
      "cell_type": "code",
      "source": [],
      "metadata": {
        "id": "PzsiFWNBAB_P"
      },
      "execution_count": 5,
      "outputs": []
    }
  ]
}