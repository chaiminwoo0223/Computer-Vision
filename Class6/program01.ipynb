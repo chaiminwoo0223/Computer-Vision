{
  "nbformat": 4,
  "nbformat_minor": 0,
  "metadata": {
    "colab": {
      "provenance": [],
      "gpuType": "T4",
      "authorship_tag": "ABX9TyM9TsVvFYrbsIVdByzxu+lM",
      "include_colab_link": true
    },
    "kernelspec": {
      "name": "python3",
      "display_name": "Python 3"
    },
    "language_info": {
      "name": "python"
    },
    "accelerator": "GPU"
  },
  "cells": [
    {
      "cell_type": "markdown",
      "metadata": {
        "id": "view-in-github",
        "colab_type": "text"
      },
      "source": [
        "<a href=\"https://colab.research.google.com/github/chaiminwoo0223/Computer-Vision/blob/main/Class6/program01.ipynb\" target=\"_parent\"><img src=\"https://colab.research.google.com/assets/colab-badge.svg\" alt=\"Open In Colab\"/></a>"
      ]
    },
    {
      "cell_type": "markdown",
      "source": [
        "# LeNet-5로 MNIST 인식하기"
      ],
      "metadata": {
        "id": "1FV0syna9Ft_"
      }
    },
    {
      "cell_type": "code",
      "execution_count": 1,
      "metadata": {
        "id": "9AP9l7eA82i7"
      },
      "outputs": [],
      "source": [
        "import numpy as np\n",
        "import tensorflow as tf\n",
        "import tensorflow.keras.datasets as ds\n",
        "\n",
        "from tensorflow.keras.models import Sequential\n",
        "from tensorflow.keras.layers import Conv2D, MaxPooling2D, Flatten, Dropout, Dense\n",
        "from tensorflow.keras.optimizers import Adam"
      ]
    },
    {
      "cell_type": "markdown",
      "source": [
        "## 1.데이터 준비"
      ],
      "metadata": {
        "id": "IQ9Yi4D-9ak9"
      }
    },
    {
      "cell_type": "code",
      "source": [
        "(x_train, y_train), (x_test, y_test) = ds.mnist.load_data()\n",
        "# 2차원 구조로 변환\n",
        "x_train = x_train.reshape(60000, 28, 28, 1)\n",
        "x_test = x_test.reshape(10000, 28, 28, 1)\n",
        "# [0, 1]로 정규화\n",
        "x_train = x_train.astype(np.float32) / 255.0\n",
        "x_test = x_test.astype(np.float32) / 255.0\n",
        "# 원핫 코드로 변환\n",
        "y_train = tf.keras.utils.to_categorical(y_train, 10)\n",
        "y_test = tf.keras.utils.to_categorical(y_test, 10)"
      ],
      "metadata": {
        "id": "_7n2b8YF9XRU"
      },
      "execution_count": 2,
      "outputs": []
    },
    {
      "cell_type": "markdown",
      "source": [
        "## 2.모델 선택(신경망 구조 설계)"
      ],
      "metadata": {
        "id": "tdmjI6RZ9z4g"
      }
    },
    {
      "cell_type": "code",
      "source": [
        "cnn = Sequential()\n",
        "cnn.add(Conv2D(6, (5,5), padding='same', activation='relu', input_shape=(28,28,1))) # 컨볼루션 층(5*5 커널을 6개 사용)\n",
        "cnn.add(MaxPooling2D(pool_size=(2,2), strides=2))\n",
        "cnn.add(Conv2D(16, (5,5), padding='valid', activation='relu')) # 컨볼루션 층(5*5 커널을 16개 사용)\n",
        "cnn.add(MaxPooling2D(pool_size=(2,2), strides=2))\n",
        "cnn.add(Conv2D(120, (5,5), padding='valid', activation='relu')) # 컨볼루션 층(5*5 커널을 120개 사용)\n",
        "cnn.add(Flatten()) # 1차원 구조로 변환\n",
        "cnn.add(Dense(units=84, activation='relu'))\n",
        "cnn.add(Dense(units=10, activation='softmax'))"
      ],
      "metadata": {
        "id": "Rm0jeJMP9xrt"
      },
      "execution_count": 3,
      "outputs": []
    },
    {
      "cell_type": "markdown",
      "source": [
        "## 3.학습"
      ],
      "metadata": {
        "id": "Z0b_-_s7_Hga"
      }
    },
    {
      "cell_type": "code",
      "source": [
        "cnn.compile(loss='categorical_crossentropy', optimizer=Adam(learning_rate=0.001), metrics=['accuracy'])\n",
        "cnn.fit(x_train, y_train, batch_size=128, epochs=30, validation_data=(x_test,y_test), verbose=2)"
      ],
      "metadata": {
        "colab": {
          "base_uri": "https://localhost:8080/"
        },
        "id": "n612DGDm_FFl",
        "outputId": "fb35db4f-4c3a-43b3-c8e3-cf51cff37a18"
      },
      "execution_count": 4,
      "outputs": [
        {
          "output_type": "stream",
          "name": "stdout",
          "text": [
            "Epoch 1/30\n",
            "469/469 - 7s - loss: 0.3060 - accuracy: 0.9106 - val_loss: 0.0866 - val_accuracy: 0.9724 - 7s/epoch - 16ms/step\n",
            "Epoch 2/30\n",
            "469/469 - 2s - loss: 0.0870 - accuracy: 0.9730 - val_loss: 0.0583 - val_accuracy: 0.9810 - 2s/epoch - 4ms/step\n",
            "Epoch 3/30\n",
            "469/469 - 2s - loss: 0.0597 - accuracy: 0.9815 - val_loss: 0.0556 - val_accuracy: 0.9821 - 2s/epoch - 4ms/step\n",
            "Epoch 4/30\n",
            "469/469 - 2s - loss: 0.0484 - accuracy: 0.9847 - val_loss: 0.0417 - val_accuracy: 0.9876 - 2s/epoch - 4ms/step\n",
            "Epoch 5/30\n",
            "469/469 - 2s - loss: 0.0393 - accuracy: 0.9872 - val_loss: 0.0367 - val_accuracy: 0.9881 - 2s/epoch - 4ms/step\n",
            "Epoch 6/30\n",
            "469/469 - 2s - loss: 0.0329 - accuracy: 0.9895 - val_loss: 0.0326 - val_accuracy: 0.9884 - 2s/epoch - 4ms/step\n",
            "Epoch 7/30\n",
            "469/469 - 2s - loss: 0.0278 - accuracy: 0.9913 - val_loss: 0.0458 - val_accuracy: 0.9845 - 2s/epoch - 5ms/step\n",
            "Epoch 8/30\n",
            "469/469 - 2s - loss: 0.0248 - accuracy: 0.9918 - val_loss: 0.0342 - val_accuracy: 0.9891 - 2s/epoch - 4ms/step\n",
            "Epoch 9/30\n",
            "469/469 - 2s - loss: 0.0223 - accuracy: 0.9925 - val_loss: 0.0409 - val_accuracy: 0.9878 - 2s/epoch - 4ms/step\n",
            "Epoch 10/30\n",
            "469/469 - 2s - loss: 0.0183 - accuracy: 0.9937 - val_loss: 0.0346 - val_accuracy: 0.9897 - 2s/epoch - 4ms/step\n",
            "Epoch 11/30\n",
            "469/469 - 2s - loss: 0.0177 - accuracy: 0.9942 - val_loss: 0.0317 - val_accuracy: 0.9896 - 2s/epoch - 4ms/step\n",
            "Epoch 12/30\n",
            "469/469 - 2s - loss: 0.0148 - accuracy: 0.9949 - val_loss: 0.0291 - val_accuracy: 0.9908 - 2s/epoch - 4ms/step\n",
            "Epoch 13/30\n",
            "469/469 - 2s - loss: 0.0130 - accuracy: 0.9955 - val_loss: 0.0321 - val_accuracy: 0.9911 - 2s/epoch - 5ms/step\n",
            "Epoch 14/30\n",
            "469/469 - 2s - loss: 0.0115 - accuracy: 0.9961 - val_loss: 0.0432 - val_accuracy: 0.9890 - 2s/epoch - 4ms/step\n",
            "Epoch 15/30\n",
            "469/469 - 2s - loss: 0.0116 - accuracy: 0.9956 - val_loss: 0.0369 - val_accuracy: 0.9900 - 2s/epoch - 4ms/step\n",
            "Epoch 16/30\n",
            "469/469 - 2s - loss: 0.0095 - accuracy: 0.9969 - val_loss: 0.0492 - val_accuracy: 0.9871 - 2s/epoch - 4ms/step\n",
            "Epoch 17/30\n",
            "469/469 - 2s - loss: 0.0106 - accuracy: 0.9965 - val_loss: 0.0415 - val_accuracy: 0.9885 - 2s/epoch - 4ms/step\n",
            "Epoch 18/30\n",
            "469/469 - 2s - loss: 0.0091 - accuracy: 0.9970 - val_loss: 0.0459 - val_accuracy: 0.9874 - 2s/epoch - 4ms/step\n",
            "Epoch 19/30\n",
            "469/469 - 2s - loss: 0.0080 - accuracy: 0.9973 - val_loss: 0.0377 - val_accuracy: 0.9900 - 2s/epoch - 5ms/step\n",
            "Epoch 20/30\n",
            "469/469 - 2s - loss: 0.0076 - accuracy: 0.9975 - val_loss: 0.0403 - val_accuracy: 0.9900 - 2s/epoch - 4ms/step\n",
            "Epoch 21/30\n",
            "469/469 - 2s - loss: 0.0087 - accuracy: 0.9967 - val_loss: 0.0401 - val_accuracy: 0.9908 - 2s/epoch - 4ms/step\n",
            "Epoch 22/30\n",
            "469/469 - 2s - loss: 0.0059 - accuracy: 0.9980 - val_loss: 0.0517 - val_accuracy: 0.9896 - 2s/epoch - 4ms/step\n",
            "Epoch 23/30\n",
            "469/469 - 2s - loss: 0.0068 - accuracy: 0.9977 - val_loss: 0.0447 - val_accuracy: 0.9890 - 2s/epoch - 4ms/step\n",
            "Epoch 24/30\n",
            "469/469 - 2s - loss: 0.0038 - accuracy: 0.9986 - val_loss: 0.0396 - val_accuracy: 0.9899 - 2s/epoch - 4ms/step\n",
            "Epoch 25/30\n",
            "469/469 - 2s - loss: 0.0064 - accuracy: 0.9978 - val_loss: 0.0533 - val_accuracy: 0.9887 - 2s/epoch - 5ms/step\n",
            "Epoch 26/30\n",
            "469/469 - 2s - loss: 0.0071 - accuracy: 0.9974 - val_loss: 0.0431 - val_accuracy: 0.9900 - 2s/epoch - 4ms/step\n",
            "Epoch 27/30\n",
            "469/469 - 2s - loss: 0.0031 - accuracy: 0.9990 - val_loss: 0.0470 - val_accuracy: 0.9911 - 2s/epoch - 4ms/step\n",
            "Epoch 28/30\n",
            "469/469 - 2s - loss: 0.0057 - accuracy: 0.9982 - val_loss: 0.0509 - val_accuracy: 0.9888 - 2s/epoch - 4ms/step\n",
            "Epoch 29/30\n",
            "469/469 - 2s - loss: 0.0053 - accuracy: 0.9984 - val_loss: 0.0415 - val_accuracy: 0.9903 - 2s/epoch - 4ms/step\n",
            "Epoch 30/30\n",
            "469/469 - 2s - loss: 0.0062 - accuracy: 0.9980 - val_loss: 0.0413 - val_accuracy: 0.9899 - 2s/epoch - 4ms/step\n"
          ]
        },
        {
          "output_type": "execute_result",
          "data": {
            "text/plain": [
              "<keras.src.callbacks.History at 0x7cee9b5394e0>"
            ]
          },
          "metadata": {},
          "execution_count": 4
        }
      ]
    },
    {
      "cell_type": "markdown",
      "source": [
        "## 4.예측(성능 측정)"
      ],
      "metadata": {
        "id": "n9uRi-wp_vkx"
      }
    },
    {
      "cell_type": "code",
      "source": [
        "res = cnn.evaluate(x_test, y_test, verbose=0)\n",
        "print('정확률 = ', res[1]*100)"
      ],
      "metadata": {
        "colab": {
          "base_uri": "https://localhost:8080/"
        },
        "id": "VStVbFfK_udC",
        "outputId": "b3e1bd7c-41d5-4ac4-d5d1-06818179d645"
      },
      "execution_count": 5,
      "outputs": [
        {
          "output_type": "stream",
          "name": "stdout",
          "text": [
            "정확률 =  98.989999294281\n"
          ]
        }
      ]
    },
    {
      "cell_type": "code",
      "source": [],
      "metadata": {
        "id": "PzsiFWNBAB_P"
      },
      "execution_count": 5,
      "outputs": []
    }
  ]
}